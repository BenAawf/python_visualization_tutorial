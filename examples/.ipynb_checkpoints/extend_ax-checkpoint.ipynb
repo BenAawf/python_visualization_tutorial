{
 "cells": [
  {
   "cell_type": "markdown",
   "id": "88b60d95-9ee5-44be-9063-ef831451dd6b",
   "metadata": {},
   "source": [
    "## How to extend the ax if the text protrudes out?\n",
    "## It is also about Transformation and Bbox"
   ]
  },
  {
   "cell_type": "code",
   "execution_count": 11,
   "id": "30f54a5b-4866-47f3-aefd-231ee2a82528",
   "metadata": {},
   "outputs": [],
   "source": [
    "import matplotlib.pyplot as plt\n",
    "import matplotlib as mpl\n",
    "from matplotlib.transforms import Bbox\n",
    "import pandas as pd\n",
    "import numpy as np"
   ]
  },
  {
   "cell_type": "code",
   "execution_count": 12,
   "id": "51c9620b-c5e2-4007-af0e-add01939e78e",
   "metadata": {},
   "outputs": [
    {
     "data": {
      "text/plain": [
       "Text(0.9, 0.9, 'hhhhhhh')"
      ]
     },
     "execution_count": 12,
     "metadata": {},
     "output_type": "execute_result"
    },
    {
     "data": {
      "image/png": "[encoded data removed]",
      "text/plain": [
       "<Figure size 432x288 with 1 Axes>"
      ]
     },
     "metadata": {
      "needs_background": "light"
     },
     "output_type": "display_data"
    }
   ],
   "source": [
    "# problem, as you can see, the text protrudes out the ax\n",
    "fig,ax = plt.subplots()\n",
    "ax.set_xlim([0,1])\n",
    "ax.set_ylim([0,1])\n",
    "data_text_coords = (0.9,0.9)\n",
    "ax.text(x=data_text_coords[0],y=data_text_coords[1],s='hhhhhhh') # default transform is ax.transData"
   ]
  },
  {
   "cell_type": "markdown",
   "id": "82d240b2-8a65-47d6-b2e7-66d5d463fb9f",
   "metadata": {},
   "source": [
    "## Easy fix:\n",
    "1. first save text as an object\n",
    "2. get text coordinate (display), inversely transform to coordinate (Ax), then adjust the x_lim"
   ]
  },
  {
   "cell_type": "code",
   "execution_count": 13,
   "id": "523394ae-1535-44e8-bdef-fb3eb830e952",
   "metadata": {},
   "outputs": [
    {
     "data": {
      "image/png": "[encoded data removed]",
      "text/plain": [
       "<Figure size 432x288 with 1 Axes>"
      ]
     },
     "metadata": {
      "needs_background": "light"
     },
     "output_type": "display_data"
    },
    {
     "data": {
      "image/png": "[encoded data removed]",
      "text/plain": [
       "<Figure size 432x288 with 1 Axes>"
      ]
     },
     "metadata": {
      "needs_background": "light"
     },
     "output_type": "display_data"
    }
   ],
   "source": [
    "# easy fix, first save to texts object (Text)\n",
    "fig,ax = plt.subplots()\n",
    "ax.set_xlim([0,1])\n",
    "ax.set_ylim([0,1])\n",
    "data_text_coords = (0.9,0.9)\n",
    "texts = ax.text(x=data_text_coords[0],y=data_text_coords[1],s='hhhhhhh') # default transform is ax.transData\n",
    "plt.pause(0.01)\n",
    "ax_text_coords = ax.transAxes.inverted().transform(texts.get_window_extent().get_points())\n",
    "# get_window_extent() will return a Bbox object, get_points() for Bbox will return ndarray\n",
    "ymax = ax_text_coords[1,1]\n",
    "fig,ax = plt.subplots()\n",
    "ax.set_xlim([0,ymax+0.3])\n",
    "data_text_coords = (0.9,0.9)\n",
    "texts = ax.text(x=data_text_coords[0],y=data_text_coords[1],s='hhhhhhh') # default transform is ax.transData"
   ]
  },
  {
   "cell_type": "markdown",
   "id": "8c2ba27f-d970-4191-ba6e-50304d9391d8",
   "metadata": {},
   "source": [
    "## More complex fix\n",
    "1. make sure the text are drawn based on fig coords\n",
    "2. then update the ax based on fig coords"
   ]
  },
  {
   "cell_type": "code",
   "execution_count": 16,
   "id": "00c728c4-a3af-41e4-a5e2-59fe00697463",
   "metadata": {},
   "outputs": [
    {
     "data": {
      "image/png": "[encoded data removed]",
      "text/plain": [
       "<Figure size 432x288 with 1 Axes>"
      ]
     },
     "metadata": {
      "needs_background": "light"
     },
     "output_type": "display_data"
    }
   ],
   "source": [
    "fig,ax = plt.subplots()\n",
    "ax.set_xlim([0,1])\n",
    "ax.set_ylim([0,1])\n",
    "data_text_coords = (0.9,0.9)\n",
    "display_text_coords = ax.transData.transform(data_text_coords)\n",
    "fig_text_coords = fig.transFigure.inverted().transform(display_text_coords)\n",
    "texts = ax.text(x=fig_text_coords[0],y=fig_text_coords[1],s='hhhhhhh',transform=fig.transFigure)\n",
    "fig_ax_coords = ax.get_position().get_points()\n",
    "## build Bbox from the construct, not extents nor bounds\n",
    "new_bbox = Bbox([[fig_ax_coords[0,0],fig_ax_coords[0,1]],[fig_ax_coords[1,0]+0.2,fig_ax_coords[1,1]+0.2]])\n",
    "ax.set_position(new_bbox)"
   ]
  },
  {
   "cell_type": "markdown",
   "id": "92ffc797-e7fc-4e40-bd29-26e61decb970",
   "metadata": {},
   "source": [
    "# talks a bit about bbox"
   ]
  },
  {
   "cell_type": "code",
   "execution_count": 5,
   "id": "087abffa-1ecc-4b05-b7d2-730bd40a9a57",
   "metadata": {},
   "outputs": [
    {
     "data": {
      "text/plain": [
       "Bbox([[0.0, 0.0], [1.0, 1.0]])"
      ]
     },
     "execution_count": 5,
     "metadata": {},
     "output_type": "execute_result"
    }
   ],
   "source": [
    "# method1: constructor, [[x0,y0],[x1,y1]], first is the lower left, second is the upper right\n",
    "Bbox([[0,0],[1,1]])"
   ]
  },
  {
   "cell_type": "code",
   "execution_count": 8,
   "id": "aeb6e99d-5155-47e1-b22e-ec6a5652fb65",
   "metadata": {},
   "outputs": [
    {
     "data": {
      "text/plain": [
       "Bbox([[0.0, 0.0], [1.0, 1.0]])"
      ]
     },
     "execution_count": 8,
     "metadata": {},
     "output_type": "execute_result"
    }
   ],
   "source": [
    "# method2: from_bounds(x0,y0,width,height)\n",
    "Bbox.from_bounds(0,0,1,1)"
   ]
  },
  {
   "cell_type": "code",
   "execution_count": 10,
   "id": "514ed90e-31c5-49b3-b0b1-75dd12d2a225",
   "metadata": {},
   "outputs": [
    {
     "data": {
      "text/plain": [
       "Bbox([[0.0, 0.0], [1.0, 1.0]])"
      ]
     },
     "execution_count": 10,
     "metadata": {},
     "output_type": "execute_result"
    }
   ],
   "source": [
    "# method3: from_extent (x0,y0,y0,y1)\n",
    "Bbox.from_extents(0,0,1,1)"
   ]
  },
  {
   "cell_type": "code",
   "execution_count": null,
   "id": "8fcf1778-c43f-4ee1-a3ab-c6d091cfc51f",
   "metadata": {},
   "outputs": [],
   "source": []
  }
 ],
 "metadata": {
  "kernelspec": {
   "display_name": "Python 3",
   "language": "python",
   "name": "python3"
  },
  "language_info": {
   "codemirror_mode": {
    "name": "ipython",
    "version": 3
   },
   "file_extension": ".py",
   "mimetype": "text/x-python",
   "name": "python",
   "nbconvert_exporter": "python",
   "pygments_lexer": "ipython3",
   "version": "3.6.13"
  }
 },
 "nbformat": 4,
 "nbformat_minor": 5
}
