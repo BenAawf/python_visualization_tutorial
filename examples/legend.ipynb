{
 "cells": [
  {
   "cell_type": "code",
   "execution_count": 1,
   "metadata": {},
   "outputs": [],
   "source": [
    "%matplotlib inline\n",
    "import matplotlib\n",
    "import matplotlib.pyplot as plt\n",
    "import matplotlib.patches as mpatches\n",
    "import matplotlib.lines as mlines"
   ]
  },
  {
   "cell_type": "code",
   "execution_count": 4,
   "metadata": {},
   "outputs": [
    {
     "data": {
      "text/plain": [
       "<matplotlib.legend.Legend at 0x11682e048>"
      ]
     },
     "execution_count": 4,
     "metadata": {},
     "output_type": "execute_result"
    },
    {
     "data": {
      "image/png": "[encoded data removed]",
      "text/plain": [
       "<Figure size 432x288 with 1 Axes>"
      ]
     },
     "metadata": {
      "needs_background": "light"
     },
     "output_type": "display_data"
    }
   ],
   "source": [
    "# a patch of color\n",
    "fig,ax = plt.subplots()\n",
    "ax.legend(handles=[mpatches.Patch(color=i) for i in 'rgb'],labels=['red','green','blue'])"
   ]
  },
  {
   "cell_type": "code",
   "execution_count": 5,
   "metadata": {},
   "outputs": [
    {
     "data": {
      "text/plain": [
       "<matplotlib.legend.Legend at 0x1166ac0f0>"
      ]
     },
     "execution_count": 5,
     "metadata": {},
     "output_type": "execute_result"
    },
    {
     "data": {
      "image/png": "[encoded data removed]",
      "text/plain": [
       "<Figure size 432x288 with 1 Axes>"
      ]
     },
     "metadata": {
      "needs_background": "light"
     },
     "output_type": "display_data"
    }
   ],
   "source": [
    "# Line2D\n",
    "fig,ax = plt.subplots()\n",
    "ax.legend(handles=[mlines.Line2D([],[],marker='v',linestyle='--',color=i) for i in 'rgb'],labels=['red','green','blue'])"
   ]
  },
  {
   "cell_type": "markdown",
   "metadata": {},
   "source": [
    "# further explanation of loc and bbox_to_anchors argument.\n",
    "\n",
    "1. there's a bounding box and a legend box \n",
    "2. when bbox_to_anchor is a tuple of length 4 (x0,y0,width,height), the x0,y0 always means the lower left of the bounding box. Then the loc determine how the legend box will align with the bounding box. for instance, upper left means the upper left of the bounding box and the upper left of the legend box are overlapping with each other.\n",
    "3. when bbox_to_anchor is a tuple of length 2 (x0,y0), the bounding box is by default a dot (width and height = 0), so it seems like the loc means the \"loc\" of the legend box itself to the (x0,y0) we just specified"
   ]
  },
  {
   "cell_type": "code",
   "execution_count": 9,
   "metadata": {},
   "outputs": [
    {
     "data": {
      "image/png": "[encoded data removed]",
      "text/plain": [
       "<Figure size 432x288 with 1 Axes>"
      ]
     },
     "metadata": {
      "needs_background": "light"
     },
     "output_type": "display_data"
    },
    {
     "data": {
      "text/plain": [
       "array([[0.94347372, 0.70198675],\n",
       "       [1.07004182, 0.92273731]])"
      ]
     },
     "execution_count": 9,
     "metadata": {},
     "output_type": "execute_result"
    }
   ],
   "source": [
    "# How to retrieve the width and height of the legend box\n",
    "fig,ax = plt.subplots()\n",
    "leg1 = ax.legend(handles=[mpatches.Patch(color=i) for i in 'rgb'],labels=['r','g','b'],loc='upper left',bbox_to_anchor=(1,1))\n",
    "plt.pause(0.01)  # most importantly!!!!!! doesn't matter which matplotlib backend you are using\n",
    "frame = leg1.get_frame()  # rectangle, actually fancyboxpath\n",
    "x0 = frame.get_x()\n",
    "y0 = frame.get_y()\n",
    "x1 = x0 + frame.get_width()\n",
    "y1 = y0 + frame.get_height()\n",
    "ax.transAxes.inverted().transform([[x0,y0],[x1,y1]])"
   ]
  },
  {
   "cell_type": "code",
   "execution_count": 5,
   "metadata": {},
   "outputs": [
    {
     "data": {
      "text/plain": [
       "array([[0.94347372, 0.70198675],\n",
       "       [1.07004182, 0.92273731]])"
      ]
     },
     "execution_count": 5,
     "metadata": {},
     "output_type": "execute_result"
    }
   ],
   "source": [
    "# alternatively\n",
    "frame = leg1.get_frame()\n",
    "ax.transAxes.inverted().transform(frame.get_bbox().get_points())"
   ]
  },
  {
   "cell_type": "code",
   "execution_count": null,
   "metadata": {},
   "outputs": [],
   "source": []
  }
 ],
 "metadata": {
  "kernelspec": {
   "display_name": "Python 3",
   "language": "python",
   "name": "python3"
  },
  "language_info": {
   "codemirror_mode": {
    "name": "ipython",
    "version": 3
   },
   "file_extension": ".py",
   "mimetype": "text/x-python",
   "name": "python",
   "nbconvert_exporter": "python",
   "pygments_lexer": "ipython3",
   "version": "3.6.13"
  }
 },
 "nbformat": 4,
 "nbformat_minor": 4
}
