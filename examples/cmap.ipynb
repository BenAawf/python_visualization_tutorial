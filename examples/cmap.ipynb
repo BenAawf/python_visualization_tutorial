{
 "cells": [
  {
   "cell_type": "code",
   "execution_count": 4,
   "metadata": {},
   "outputs": [],
   "source": [
    "%matplotlib inline\n",
    "import matplotlib\n",
    "from matplotlib import cm\n",
    "import matplotlib.pyplot as plt\n",
    "import numpy as np\n",
    "from matplotlib import colors"
   ]
  },
  {
   "cell_type": "code",
   "execution_count": 10,
   "metadata": {},
   "outputs": [],
   "source": [
    "# get discrete value from built in colormap\n",
    "# Method1: < 10 colors, go to this approach\n",
    "a = matplotlib.rcParams['axes.prop_cycle']"
   ]
  },
  {
   "cell_type": "code",
   "execution_count": 17,
   "metadata": {},
   "outputs": [
    {
     "data": {
      "text/html": [
       "<table><th>'color'</th><tr><td>'#1f77b4'</td></tr><tr><td>'#ff7f0e'</td></tr><tr><td>'#2ca02c'</td></tr><tr><td>'#d62728'</td></tr><tr><td>'#9467bd'</td></tr><tr><td>'#8c564b'</td></tr><tr><td>'#e377c2'</td></tr><tr><td>'#7f7f7f'</td></tr><tr><td>'#bcbd22'</td></tr><tr><td>'#17becf'</td></tr></table>"
      ],
      "text/plain": [
       "cycler('color', ['#1f77b4', '#ff7f0e', '#2ca02c', '#d62728', '#9467bd', '#8c564b', '#e377c2', '#7f7f7f', '#bcbd22', '#17becf'])"
      ]
     },
     "execution_count": 17,
     "metadata": {},
     "output_type": "execute_result"
    }
   ],
   "source": [
    "a"
   ]
  },
  {
   "cell_type": "code",
   "execution_count": 16,
   "metadata": {},
   "outputs": [
    {
     "data": {
      "text/plain": [
       "'#1f77b4'"
      ]
     },
     "execution_count": 16,
     "metadata": {},
     "output_type": "execute_result"
    }
   ],
   "source": [
    "list(list(a)[0].values())[0]"
   ]
  },
  {
   "cell_type": "code",
   "execution_count": 20,
   "metadata": {},
   "outputs": [],
   "source": [
    "# Method2: < 12 colors\n",
    "a1 = cm.get_cmap('Set3').colors[:12]"
   ]
  },
  {
   "cell_type": "code",
   "execution_count": 21,
   "metadata": {},
   "outputs": [
    {
     "data": {
      "text/plain": [
       "((0.5529411764705883, 0.8274509803921568, 0.7803921568627451),\n",
       " (1.0, 1.0, 0.7019607843137254),\n",
       " (0.7450980392156863, 0.7294117647058823, 0.8549019607843137),\n",
       " (0.984313725490196, 0.5019607843137255, 0.4470588235294118),\n",
       " (0.5019607843137255, 0.6941176470588235, 0.8274509803921568),\n",
       " (0.9921568627450981, 0.7058823529411765, 0.3843137254901961),\n",
       " (0.7019607843137254, 0.8705882352941177, 0.4117647058823529),\n",
       " (0.9882352941176471, 0.803921568627451, 0.8980392156862745),\n",
       " (0.8509803921568627, 0.8509803921568627, 0.8509803921568627),\n",
       " (0.7372549019607844, 0.5019607843137255, 0.7411764705882353),\n",
       " (0.8, 0.9215686274509803, 0.7725490196078432),\n",
       " (1.0, 0.9294117647058824, 0.43529411764705883))"
      ]
     },
     "execution_count": 21,
     "metadata": {},
     "output_type": "execute_result"
    }
   ],
   "source": [
    "a1"
   ]
  },
  {
   "cell_type": "code",
   "execution_count": 23,
   "metadata": {},
   "outputs": [],
   "source": [
    "# Method3: < 20 colors\n",
    "a2 = cm.get_cmap('tab20').colors[:20]"
   ]
  },
  {
   "cell_type": "code",
   "execution_count": 24,
   "metadata": {},
   "outputs": [
    {
     "data": {
      "text/plain": [
       "((0.12156862745098039, 0.4666666666666667, 0.7058823529411765),\n",
       " (0.6823529411764706, 0.7803921568627451, 0.9098039215686274),\n",
       " (1.0, 0.4980392156862745, 0.054901960784313725),\n",
       " (1.0, 0.7333333333333333, 0.47058823529411764),\n",
       " (0.17254901960784313, 0.6274509803921569, 0.17254901960784313),\n",
       " (0.596078431372549, 0.8745098039215686, 0.5411764705882353),\n",
       " (0.8392156862745098, 0.15294117647058825, 0.1568627450980392),\n",
       " (1.0, 0.596078431372549, 0.5882352941176471),\n",
       " (0.5803921568627451, 0.403921568627451, 0.7411764705882353),\n",
       " (0.7725490196078432, 0.6901960784313725, 0.8352941176470589),\n",
       " (0.5490196078431373, 0.33725490196078434, 0.29411764705882354),\n",
       " (0.7686274509803922, 0.611764705882353, 0.5803921568627451),\n",
       " (0.8901960784313725, 0.4666666666666667, 0.7607843137254902),\n",
       " (0.9686274509803922, 0.7137254901960784, 0.8235294117647058),\n",
       " (0.4980392156862745, 0.4980392156862745, 0.4980392156862745),\n",
       " (0.7803921568627451, 0.7803921568627451, 0.7803921568627451),\n",
       " (0.7372549019607844, 0.7411764705882353, 0.13333333333333333),\n",
       " (0.8588235294117647, 0.8588235294117647, 0.5529411764705883),\n",
       " (0.09019607843137255, 0.7450980392156863, 0.8117647058823529),\n",
       " (0.6196078431372549, 0.8549019607843137, 0.8980392156862745))"
      ]
     },
     "execution_count": 24,
     "metadata": {},
     "output_type": "execute_result"
    }
   ],
   "source": [
    "a2"
   ]
  },
  {
   "cell_type": "code",
   "execution_count": 2,
   "metadata": {},
   "outputs": [],
   "source": [
    "# Method4: > 20 colors, pick colors from continuous colormap\n",
    "cmap = [cm.jet(round(i)) for i in np.linspace(0,255,27)]"
   ]
  },
  {
   "cell_type": "code",
   "execution_count": 3,
   "metadata": {},
   "outputs": [
    {
     "data": {
      "text/plain": [
       "[(0.0, 0.0, 0.5, 1.0),\n",
       " (0.0, 0.0, 0.67825311942959, 1.0),\n",
       " (0.0, 0.0, 0.85650623885918, 1.0),\n",
       " (0.0, 0.0, 1.0, 1.0),\n",
       " (0.0, 0.11176470588235295, 1.0, 1.0),\n",
       " (0.0, 0.26862745098039204, 1.0, 1.0),\n",
       " (0.0, 0.42549019607843136, 1.0, 1.0),\n",
       " (0.0, 0.5823529411764706, 1.0, 1.0),\n",
       " (0.0, 0.7235294117647059, 1.0, 1.0),\n",
       " (0.0, 0.8803921568627451, 0.9835547122074637, 1.0),\n",
       " (0.11068943706514844, 1.0, 0.8570524984187226, 1.0),\n",
       " (0.2371916508538899, 1.0, 0.7305502846299811, 1.0),\n",
       " (0.3636938646426312, 1.0, 0.6040480708412397, 1.0),\n",
       " (0.4901960784313725, 1.0, 0.4775458570524984, 1.0),\n",
       " (0.6040480708412397, 1.0, 0.3636938646426312, 1.0),\n",
       " (0.730550284629981, 1.0, 0.23719165085388993, 1.0),\n",
       " (0.8570524984187222, 1.0, 0.11068943706514867, 1.0),\n",
       " (0.9835547122074635, 0.9448075526506902, 0.0, 1.0),\n",
       " (1.0, 0.7995642701525056, 0.0, 1.0),\n",
       " (1.0, 0.6688453159041396, 0.0, 1.0),\n",
       " (1.0, 0.5236020334059556, 0.0, 1.0),\n",
       " (1.0, 0.3783587509077707, 0.0, 1.0),\n",
       " (1.0, 0.2331154684095862, 0.0, 1.0),\n",
       " (1.0, 0.08787218591140178, 0.0, 1.0),\n",
       " (0.8565062388591802, 0.0, 0.0, 1.0),\n",
       " (0.6782531194295901, 0.0, 0.0, 1.0),\n",
       " (0.5, 0.0, 0.0, 1.0)]"
      ]
     },
     "execution_count": 3,
     "metadata": {},
     "output_type": "execute_result"
    }
   ],
   "source": [
    "cmap"
   ]
  },
  {
   "cell_type": "code",
   "execution_count": 6,
   "metadata": {},
   "outputs": [
    {
     "name": "stdout",
     "output_type": "stream",
     "text": [
      "#000080\n",
      "#0000ad\n",
      "#0000da\n",
      "#0000ff\n",
      "#001cff\n",
      "#0044ff\n",
      "#006cff\n",
      "#0094ff\n",
      "#00b8ff\n",
      "#00e0fb\n",
      "#1cffdb\n",
      "#3cffba\n",
      "#5dff9a\n",
      "#7dff7a\n",
      "#9aff5d\n",
      "#baff3c\n",
      "#dbff1c\n",
      "#fbf100\n",
      "#ffcc00\n",
      "#ffab00\n",
      "#ff8600\n",
      "#ff6000\n",
      "#ff3b00\n",
      "#ff1600\n",
      "#da0000\n",
      "#ad0000\n",
      "#800000\n"
     ]
    }
   ],
   "source": [
    "# convert to hexadecimal\n",
    "for c in cmap:\n",
    "    print(colors.to_hex(c))\n",
    "# if you want to convert back, colors.to_rgb() or to_rgba()"
   ]
  },
  {
   "cell_type": "markdown",
   "metadata": {},
   "source": [
    "## construct custom colormap, first extract gradient using adobe online color, understand the dynamic changes of R G B channels, then specify cdict"
   ]
  },
  {
   "cell_type": "code",
   "execution_count": 26,
   "metadata": {},
   "outputs": [],
   "source": [
    "# Nathan's Yellow-blue schema\n",
    "# yellow-blue colormap\n",
    "cdict = {\n",
    "    'red':((0.0,0.0,0.0),\n",
    "           (0.5,0.0,0.0),\n",
    "           (1.0,1.0,1.0)),\n",
    "    'green':((0.0,0.8,0.8),\n",
    "             (0.5,0.0,0.0),\n",
    "             (1.0,1.0,1.0)),\n",
    "    'blue':((0.0,1.0,1.0),\n",
    "            (0.5,0.0,0.0),\n",
    "            (1.0,0.0,0.0))\n",
    "}\n",
    "from matplotlib.colors import LinearSegmentedColormap\n",
    "newcmp = LinearSegmentedColormap('yellow_blue',segmentdata=cdict)"
   ]
  },
  {
   "cell_type": "code",
   "execution_count": 27,
   "metadata": {},
   "outputs": [],
   "source": [
    "# SHAP pink-blue schema\n",
    "cdict = {'red':((0.0,0.0,0.0),\n",
    "                (1.0,1.0,1.0)),\n",
    "         'green':((0.0,0.5,0.5),\n",
    "                  (0.73,0.0,0.0),\n",
    "                  (1.0,0.0,0.0)),\n",
    "         'blue':((0.0,1.0,1.0),\n",
    "                 (1.0,0.0,0.0))}\n",
    "newcmp = LinearSegmentedColormap('testCmap', segmentdata=cdict)"
   ]
  },
  {
   "cell_type": "code",
   "execution_count": null,
   "metadata": {},
   "outputs": [],
   "source": []
  }
 ],
 "metadata": {
  "kernelspec": {
   "display_name": "Python 3",
   "language": "python",
   "name": "python3"
  },
  "language_info": {
   "codemirror_mode": {
    "name": "ipython",
    "version": 3
   },
   "file_extension": ".py",
   "mimetype": "text/x-python",
   "name": "python",
   "nbconvert_exporter": "python",
   "pygments_lexer": "ipython3",
   "version": "3.6.12"
  }
 },
 "nbformat": 4,
 "nbformat_minor": 4
}
