{
  "nbformat": 4,
  "nbformat_minor": 0,
  "metadata": {
    "colab": {
      "name": "markersize.ipynb",
      "provenance": []
    },
    "kernelspec": {
      "name": "python3",
      "display_name": "Python 3"
    },
    "language_info": {
      "name": "python"
    }
  },
  "cells": [
    {
      "cell_type": "code",
      "execution_count": 1,
      "metadata": {
        "id": "ZRx1oozi3WaS"
      },
      "outputs": [],
      "source": [
        "import matplotlib as mpl\n",
        "import matplotlib.pyplot as plt\n",
        "import numpy as np\n",
        "import pandas as pd\n",
        "import os,sys"
      ]
    },
    {
      "cell_type": "markdown",
      "source": [
        "When plotting using `ax.scatter`, the `s` parameter is different from `markersize` parameter when using `ax.plot`, the former should be `markersize**2`, detailed explanation can be found at (https://stackoverflow.com/questions/14827650/pyplot-scatter-plot-marker-size#:~:text=So%20far%20the%20answer%20to,is%20hence%201%2F72%20inches.).\n",
        "\n",
        "But a more confusing thing is, the unit of the `s` or `markersize` is not the data unit shouwn in the axes or data, instead of, it represents the number of `points`. This notebook aims to illustrate what it is and how to specify `s` based on how many data units I want it to occupy (like, I want a dot occupy 2 data units)."
      ],
      "metadata": {
        "id": "nnJyM5oy4G4f"
      }
    },
    {
      "cell_type": "code",
      "source": [
        "def to_point_unit(s,fig,ax,xlim,ylim,scatter=True):\n",
        "    # s means how many data units you want the marker to occupy\n",
        "    ppi = 72       # matplotlib default point per inch is 72\n",
        "    dpi = fig.dpi   # matplotlib default dot/pixel per inch is 100\n",
        "    ax.set_xlim(xlim)\n",
        "    ax.set_ylim(ylim)\n",
        "    fig.canvas.draw()  # or using plt.pause(0.01)\n",
        "    one_data_unit_to_one_display_unit = ax.get_window_extent().width/ (xlim[1]-xlim[0])  # display unit = pixel\n",
        "    one_display_unit_to_one_point_unit = ppi / dpi\n",
        "    one_data_unit_to_one_point_unit = one_data_unit_to_one_display_unit * one_display_unit_to_one_point_unit\n",
        "    s_point_unit = one_data_unit_to_one_point_unit * s\n",
        "    if scatter:\n",
        "        s_point_unit = s_point_unit ** 2\n",
        "    return s_point_unit"
      ],
      "metadata": {
        "id": "QtOLm9Ck5E1q"
      },
      "execution_count": 2,
      "outputs": []
    },
    {
      "cell_type": "code",
      "source": [
        "fig, ax = plt.subplots()\n",
        "s = 1\n",
        "sp = to_point_unit(s,fig,ax,(0,10),(0,10),True)\n",
        "ax.scatter([4],[4],s=sp)"
      ],
      "metadata": {
        "colab": {
          "base_uri": "https://localhost:8080/",
          "height": 287
        },
        "id": "LByB3AEQ5zLY",
        "outputId": "af297ff2-2571-4822-8f34-7284cfacd281"
      },
      "execution_count": 3,
      "outputs": [
        {
          "output_type": "execute_result",
          "data": {
            "text/plain": [
              "<matplotlib.collections.PathCollection at 0x7f2a4137c550>"
            ]
          },
          "metadata": {},
          "execution_count": 3
        },
        {
          "output_type": "display_data",
          "data": {
            "text/plain": [
              "<Figure size 432x288 with 1 Axes>"
            ],
            "image/png": "[encoded data removed]"
          },
          "metadata": {
            "needs_background": "light"
          }
        }
      ]
    }
  ]
}